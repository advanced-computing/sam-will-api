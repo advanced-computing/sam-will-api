{
 "cells": [
  {
   "cell_type": "code",
   "execution_count": 2,
   "metadata": {},
   "outputs": [],
   "source": [
    "import pandas as pd\n",
    "import duckdb"
   ]
  },
  {
   "cell_type": "code",
   "execution_count": 3,
   "metadata": {},
   "outputs": [
    {
     "data": {
      "text/html": [
       "<div>\n",
       "<style scoped>\n",
       "    .dataframe tbody tr th:only-of-type {\n",
       "        vertical-align: middle;\n",
       "    }\n",
       "\n",
       "    .dataframe tbody tr th {\n",
       "        vertical-align: top;\n",
       "    }\n",
       "\n",
       "    .dataframe thead th {\n",
       "        text-align: right;\n",
       "    }\n",
       "</style>\n",
       "<table border=\"1\" class=\"dataframe\">\n",
       "  <thead>\n",
       "    <tr style=\"text-align: right;\">\n",
       "      <th></th>\n",
       "      <th>DATE</th>\n",
       "      <th>CPI</th>\n",
       "    </tr>\n",
       "  </thead>\n",
       "  <tbody>\n",
       "    <tr>\n",
       "      <th>0</th>\n",
       "      <td>1947:01</td>\n",
       "      <td>21.5</td>\n",
       "    </tr>\n",
       "    <tr>\n",
       "      <th>1</th>\n",
       "      <td>1947:02</td>\n",
       "      <td>21.6</td>\n",
       "    </tr>\n",
       "    <tr>\n",
       "      <th>2</th>\n",
       "      <td>1947:03</td>\n",
       "      <td>22.0</td>\n",
       "    </tr>\n",
       "    <tr>\n",
       "      <th>3</th>\n",
       "      <td>1947:04</td>\n",
       "      <td>22.0</td>\n",
       "    </tr>\n",
       "    <tr>\n",
       "      <th>4</th>\n",
       "      <td>1947:05</td>\n",
       "      <td>22.0</td>\n",
       "    </tr>\n",
       "    <tr>\n",
       "      <th>...</th>\n",
       "      <td>...</td>\n",
       "      <td>...</td>\n",
       "    </tr>\n",
       "    <tr>\n",
       "      <th>932</th>\n",
       "      <td>2024:09</td>\n",
       "      <td>314.9</td>\n",
       "    </tr>\n",
       "    <tr>\n",
       "      <th>933</th>\n",
       "      <td>2024:10</td>\n",
       "      <td>315.6</td>\n",
       "    </tr>\n",
       "    <tr>\n",
       "      <th>934</th>\n",
       "      <td>2024:11</td>\n",
       "      <td>316.4</td>\n",
       "    </tr>\n",
       "    <tr>\n",
       "      <th>935</th>\n",
       "      <td>2024:12</td>\n",
       "      <td>317.6</td>\n",
       "    </tr>\n",
       "    <tr>\n",
       "      <th>936</th>\n",
       "      <td>2025:01</td>\n",
       "      <td>319.1</td>\n",
       "    </tr>\n",
       "  </tbody>\n",
       "</table>\n",
       "<p>937 rows × 2 columns</p>\n",
       "</div>"
      ],
      "text/plain": [
       "        DATE    CPI\n",
       "0    1947:01   21.5\n",
       "1    1947:02   21.6\n",
       "2    1947:03   22.0\n",
       "3    1947:04   22.0\n",
       "4    1947:05   22.0\n",
       "..       ...    ...\n",
       "932  2024:09  314.9\n",
       "933  2024:10  315.6\n",
       "934  2024:11  316.4\n",
       "935  2024:12  317.6\n",
       "936  2025:01  319.1\n",
       "\n",
       "[937 rows x 2 columns]"
      ]
     },
     "execution_count": 3,
     "metadata": {},
     "output_type": "execute_result"
    }
   ],
   "source": [
    "CPI25 = pd.read_csv('PCPI25M2.csv')\n",
    "CPI25"
   ]
  },
  {
   "cell_type": "code",
   "execution_count": 4,
   "metadata": {},
   "outputs": [],
   "source": [
    "file = 'Fed_CPI2.db'"
   ]
  },
  {
   "cell_type": "code",
   "execution_count": 5,
   "metadata": {},
   "outputs": [
    {
     "name": "stdout",
     "output_type": "stream",
     "text": [
      "        DATE    CPI\n",
      "0    1947:01   21.5\n",
      "1    1947:02   21.6\n",
      "2    1947:03   22.0\n",
      "3    1947:04   22.0\n",
      "4    1947:05   22.0\n",
      "..       ...    ...\n",
      "932  2024:09  314.9\n",
      "933  2024:10  315.6\n",
      "934  2024:11  316.4\n",
      "935  2024:12  317.6\n",
      "936  2025:01  319.1\n",
      "\n",
      "[937 rows x 2 columns]\n"
     ]
    }
   ],
   "source": [
    "#trunc method\n",
    "def trunc_and_load(con,data):\n",
    "    # we simply truncate the table and load the new data\n",
    "    con.sql((\"CREATE OR REPLACE TABLE cpi_trunc AS SELECT * FROM data\"))\n",
    "with duckdb.connect(file) as con:\n",
    "    trunc_and_load(con, CPI25)\n",
    "    print(con.sql('SELECT * FROM cpi_trunc').fetchdf()) \n",
    "\n"
   ]
  },
  {
   "cell_type": "code",
   "execution_count": null,
   "metadata": {},
   "outputs": [],
   "source": [
    "#drop mistaken addition to db\n",
    "with duckdb.connect(file) as con:\n",
    "    con.sql('DROP TABLE IF EXISTS data_trunc')"
   ]
  },
  {
   "cell_type": "code",
   "execution_count": null,
   "metadata": {},
   "outputs": [],
   "source": [
    "#append method"
   ]
  },
  {
   "cell_type": "code",
   "execution_count": 9,
   "metadata": {},
   "outputs": [
    {
     "name": "stdout",
     "output_type": "stream",
     "text": [
      "        DATE    CPI\n",
      "0    1947:01   21.5\n",
      "1    1947:02   21.6\n",
      "2    1947:03   22.0\n",
      "3    1947:04   22.0\n",
      "4    1947:05   22.0\n",
      "..       ...    ...\n",
      "932  2024:09  314.9\n",
      "933  2024:10  315.6\n",
      "934  2024:11  316.4\n",
      "935  2024:12  317.6\n",
      "936  2025:01  319.1\n",
      "\n",
      "[937 rows x 2 columns]\n"
     ]
    }
   ],
   "source": [
    "#inc method--inspired by Chat GPT\n",
    "def incremental_load(con, new_data):\n",
    "    # Load existing CPI data from table into a df\n",
    "    existing_cpi = con.sql(\"SELECT * FROM cpi_inc\").fetchdf()\n",
    "    # Merge existing and new data to compare\n",
    "    merged_cpi = existing_cpi.merge(new_data, on=\"DATE\", how=\"outer\", suffixes=(\"_old\", \"_new\"))\n",
    "    # Identify records to update (existing dates with revised values)\n",
    "    updates = merged_cpi.dropna(subset=[\"CPI_old\", \"CPI_new\"])\n",
    "    updates = updates[updates[\"CPI_old\"] != updates[\"CPI_new\"]][[\"DATE\", \"CPI_new\"]]\n",
    "    # Identify new records to insert (dates not in the existing table)\n",
    "    inserts = merged_cpi[merged_cpi[\"CPI_old\"].isna()][[\"DATE\", \"CPI_new\"]]\n",
    "    # Update existing records\n",
    "    for _, row in updates.iterrows():\n",
    "        con.sql(f\"UPDATE cpi_inc SET CPI = {row['CPI_new']} WHERE DATE = '{row['DATE']}'\")\n",
    "    # Insert new records\n",
    "    if not inserts.empty:\n",
    "        con.sql(\"INSERT INTO cpi_inc SELECT * FROM inserts\")\n",
    "\n",
    "with duckdb.connect(file) as con:\n",
    "    con.sql('BEGIN TRANSACTION') # starting a transaction -- changes are synced once = improves performance\n",
    "    incremental_load(con, CPI25)\n",
    "    con.sql('COMMIT') # committing the transaction \n",
    "    print(con.sql('SELECT * FROM cpi_inc').fetchdf())"
   ]
  }
 ],
 "metadata": {
  "kernelspec": {
   "display_name": ".venv",
   "language": "python",
   "name": "python3"
  },
  "language_info": {
   "codemirror_mode": {
    "name": "ipython",
    "version": 3
   },
   "file_extension": ".py",
   "mimetype": "text/x-python",
   "name": "python",
   "nbconvert_exporter": "python",
   "pygments_lexer": "ipython3",
   "version": "3.12.2"
  }
 },
 "nbformat": 4,
 "nbformat_minor": 2
}
